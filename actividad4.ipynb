{
 "cells": [
  {
   "cell_type": "markdown",
   "metadata": {},
   "source": [
    "# Introducción"
   ]
  },
  {
   "cell_type": "markdown",
   "metadata": {},
   "source": [
    "Para esta práctica se realizarán los ejercicios del 6.9 al 6.13 del libro brindado en la materia, empleando las transformaciones vistas en clase."
   ]
  },
  {
   "cell_type": "code",
   "execution_count": 2,
   "metadata": {},
   "outputs": [],
   "source": [
    "import numpy as np\n",
    "import matplotlib.pyplot as plt"
   ]
  },
  {
   "cell_type": "markdown",
   "metadata": {},
   "source": [
    "# Problema 6.9\n",
    "### Alinéese el vector **V = I + J + K**  con el vector **K**."
   ]
  },
  {
   "cell_type": "markdown",
   "metadata": {},
   "source": [
    "$$\n",
    "A_v = \n",
    "\\begin{pmatrix}\n",
    "    \\frac{\\lambda}{|\\vec{V}|} & -\\frac{ab}{\\lambda|\\vec{V}|} & -\\frac{ac}{\\lambda|\\vec{V}|} & 0 \\\\\n",
    "    0 & \\frac{c}{\\lambda} & -\\frac{b}{\\lambda} & 0 \\\\\n",
    "    \\frac{a}{|\\vec{V}|} & \\frac{b}{|\\vec{V}|} & \\frac{c}{|\\vec{V}|} & 0 \\\\\n",
    "    0 & 0 & 0 & 1\n",
    "\\end{pmatrix}\n",
    "; \\quad \\vec{V} = \n",
    "\\begin{pmatrix}\n",
    "    1 \\\\\n",
    "    1 \\\\\n",
    "    1 \\\\\n",
    "    1\n",
    "\\end{pmatrix}\n",
    "$$\n",
    "\n",
    "Donde:\n",
    "\n",
    "$$\n",
    "\\begin{align*}\n",
    "a &= 1 \\\\\n",
    "b &= 1 \\\\\n",
    "c &= 1 \\\\\n",
    "\\lambda &= \\sqrt{b^2 + c^2} = \\sqrt{1^2 + 1^2} = \\sqrt{2} \\\\\n",
    "|\\vec{V}| &= \\sqrt{a^2 + b^2 + c^2} = \\sqrt{1^2 + 1^2 + 1^2} = \\sqrt{3}\n",
    "\\end{align*}\n",
    "$$"
   ]
  },
  {
   "cell_type": "code",
   "execution_count": 3,
   "metadata": {},
   "outputs": [],
   "source": [
    "# Valores dados\n",
    "a = 1\n",
    "b = 1\n",
    "c = 1\n",
    "lambda_ = np.sqrt(b**2 + c**2)\n",
    "v_magnitude = np.sqrt(a**2 + b**2 + c**2)\n",
    "V = np.array([1, 1, 1, 1])"
   ]
  },
  {
   "cell_type": "markdown",
   "metadata": {},
   "source": [
    "Obtención de la matriz de alineación.\n",
    "\n",
    "$$\n",
    "A_v = \n",
    "\\begin{pmatrix}\n",
    "    \\frac{\\lambda}{|\\vec{V}|} & -\\frac{ab}{\\lambda|\\vec{V}|} & -\\frac{ac}{\\lambda|\\vec{V}|} & 0 \\\\\n",
    "    0 & \\frac{c}{\\lambda} & -\\frac{b}{\\lambda} & 0 \\\\\n",
    "    \\frac{a}{|\\vec{V}|} & \\frac{b}{|\\vec{V}|} & \\frac{c}{|\\vec{V}|} & 0 \\\\\n",
    "    0 & 0 & 0 & 1\n",
    "\\end{pmatrix}\n",
    "= \n",
    "\\begin{pmatrix}\n",
    "    \\frac{\\sqrt{2}}{\\sqrt{3}} & -\\frac{1\\cdot1}{\\sqrt{2}\\cdot\\sqrt{3}} & -\\frac{1\\cdot1}{\\sqrt{2}\\cdot\\sqrt{3}} & 0 \\\\\n",
    "    0 & \\frac{1}{\\sqrt{2}} & -\\frac{1}{\\sqrt{2}} & 0 \\\\\n",
    "    \\frac{1}{\\sqrt{3}} & \\frac{1}{\\sqrt{3}} & \\frac{1}{\\sqrt{3}} & 0 \\\\\n",
    "    0 & 0 & 0 & 1\n",
    "\\end{pmatrix}\n",
    "= \n",
    "\\begin{pmatrix}\n",
    "    \\frac{\\sqrt{6}}{3} & -\\frac{\\sqrt{6}}{6} & -\\frac{\\sqrt{6}}{6} & 0 \\\\\n",
    "    0 & \\frac{\\sqrt{2}}{2} & -\\frac{\\sqrt{2}}{2} & 0 \\\\\n",
    "    \\frac{\\sqrt{3}}{3} & \\frac{\\sqrt{3}}{3} & \\frac{\\sqrt{3}}{3} & 0 \\\\\n",
    "    0 & 0 & 0 & 1\n",
    "\\end{pmatrix}\n",
    "$$"
   ]
  },
  {
   "cell_type": "code",
   "execution_count": 4,
   "metadata": {},
   "outputs": [],
   "source": [
    "# Matriz de alineación\n",
    "A_v = np.array([\n",
    "    [lambda_ / v_magnitude, -a*b / (lambda_ * v_magnitude), -a*c / (lambda_ * v_magnitude), 0],\n",
    "    [0, c / lambda_, -b / lambda_, 0],\n",
    "    [a / v_magnitude, b / v_magnitude, c / v_magnitude, 0],\n",
    "    [0, 0, 0, 1]\n",
    "])"
   ]
  },
  {
   "cell_type": "markdown",
   "metadata": {},
   "source": [
    "Realizamos la operación $V' = A_v \\cdot V$.\n",
    "\n",
    "$$\n",
    "V' = \\begin{pmatrix}\n",
    "    \\frac{\\sqrt{6}}{3} & -\\frac{\\sqrt{6}}{6} & -\\frac{\\sqrt{6}}{6} & 0 \\\\\n",
    "    0 & \\frac{\\sqrt{2}}{2} & -\\frac{\\sqrt{2}}{2} & 0 \\\\\n",
    "    \\frac{\\sqrt{3}}{3} & \\frac{\\sqrt{3}}{3} & \\frac{\\sqrt{3}}{3} & 0 \\\\\n",
    "    0 & 0 & 0 & 1\n",
    "\\end{pmatrix} \\begin{pmatrix}\n",
    "    1 \\\\\n",
    "    1 \\\\\n",
    "    1 \\\\\n",
    "    1\n",
    "\\end{pmatrix} = \\begin{pmatrix}\n",
    "    0 \\\\\n",
    "    0 \\\\\n",
    "    \\sqrt{3} \\\\\n",
    "    1\n",
    "\\end{pmatrix} \\approx \\begin{pmatrix}\n",
    "    0 \\\\\n",
    "    0 \\\\\n",
    "    1.732 \\\\\n",
    "    1\n",
    "\\end{pmatrix}\n",
    "$$"
   ]
  },
  {
   "cell_type": "code",
   "execution_count": 5,
   "metadata": {},
   "outputs": [
    {
     "data": {
      "text/plain": [
       "array([2.22044605e-16, 0.00000000e+00, 1.73205081e+00, 1.00000000e+00])"
      ]
     },
     "execution_count": 5,
     "metadata": {},
     "output_type": "execute_result"
    }
   ],
   "source": [
    "# Calculamos V'\n",
    "V_prime = np.dot(A_v, V)\n",
    "\n",
    "V_prime"
   ]
  },
  {
   "cell_type": "markdown",
   "metadata": {},
   "source": [
    "\n",
    "Dado que $2.22044605 \\times 10^{-16}$ es efectivamente 0 dentro de la precisión numérica el vector **V** alineado con el vector **K** es **V' = (0, 0, 1.732, 1)**."
   ]
  },
  {
   "cell_type": "markdown",
   "metadata": {},
   "source": [
    "# Problema 6.10\n",
    "### Obténgase una transformación que alinea al vector **V = I + J + K** con el vector **N = 2I - J - K**."
   ]
  },
  {
   "cell_type": "markdown",
   "metadata": {},
   "source": [
    "$$\n",
    "A_v = \n",
    "\\begin{pmatrix}\n",
    "    \\frac{\\lambda}{|\\vec{V}|} & -\\frac{ab}{\\lambda|\\vec{V}|} & -\\frac{ac}{\\lambda|\\vec{V}|} & 0 \\\\\n",
    "    0 & \\frac{c}{\\lambda} & -\\frac{b}{\\lambda} & 0 \\\\\n",
    "    \\frac{a}{|\\vec{V}|} & \\frac{b}{|\\vec{V}|} & \\frac{c}{|\\vec{V}|} & 0 \\\\\n",
    "    0 & 0 & 0 & 1\n",
    "\\end{pmatrix}\n",
    "; \\quad \\vec{V} = \n",
    "\\begin{pmatrix}\n",
    "    1 \\\\\n",
    "    1 \\\\\n",
    "    1 \\\\\n",
    "    1\n",
    "\\end{pmatrix}\n",
    "; \\quad \\vec{N} = \n",
    "\\begin{pmatrix}\n",
    "    2 \\\\\n",
    "    -1 \\\\\n",
    "    -1 \\\\\n",
    "    1\n",
    "\\end{pmatrix}\n",
    "$$\n",
    "\n",
    "Donde:\n",
    "\n",
    "$$\n",
    "\\begin{align*}\n",
    "a &= 2 \\\\\n",
    "b &= -1 \\\\\n",
    "c &= -1 \\\\\n",
    "\\lambda &= \\sqrt{b^2 + c^2} = \\sqrt{(-1)^2 + (-1)^2} = \\sqrt{1 + 1} = \\sqrt{2} \\\\\n",
    "|\\vec{V}| &= \\sqrt{a^2 + b^2 + c^2} = \\sqrt{2^2 + (-1)^2 + (-1)^2} = \\sqrt{4 + 1 + 1} =\\sqrt{6}\n",
    "\\end{align*}\n",
    "$$"
   ]
  },
  {
   "cell_type": "code",
   "execution_count": 9,
   "metadata": {},
   "outputs": [],
   "source": [
    "# Valores dados\n",
    "a = 2\n",
    "b = -1\n",
    "c = -1\n",
    "lambda_ = np.sqrt(b**2 + c**2)\n",
    "v_magnitude = np.sqrt(a**2 + b**2 + c**2)\n",
    "V = np.array([1, 1, 1, 1])"
   ]
  },
  {
   "cell_type": "markdown",
   "metadata": {},
   "source": [
    "Obtención de la matriz de alineación.\n",
    "\n",
    "$$\n",
    "A_v = \n",
    "\\begin{pmatrix}\n",
    "    \\frac{\\lambda}{|\\vec{V}|} & -\\frac{ab}{\\lambda|\\vec{V}|} & -\\frac{ac}{\\lambda|\\vec{V}|} & 0 \\\\\n",
    "    0 & \\frac{c}{\\lambda} & -\\frac{b}{\\lambda} & 0 \\\\\n",
    "    \\frac{a}{|\\vec{V}|} & \\frac{b}{|\\vec{V}|} & \\frac{c}{|\\vec{V}|} & 0 \\\\\n",
    "    0 & 0 & 0 & 1\n",
    "\\end{pmatrix}\n",
    "= \n",
    "\\begin{pmatrix}\n",
    "    \\frac{\\sqrt{2}}{\\sqrt{6}} & \\frac{-2\\cdot-1}{\\sqrt{2}\\cdot\\sqrt{6}} & \\frac{-2\\cdot-1}{\\sqrt{2}\\cdot\\sqrt{6}} & 0 \\\\\n",
    "    0 & \\frac{-1}{\\sqrt{2}} & -\\frac{-(1)}{\\sqrt{2}} & 0 \\\\\n",
    "    \\frac{2}{\\sqrt{6}} & \\frac{-1}{\\sqrt{6}} & \\frac{-1}{\\sqrt{6}} & 0 \\\\\n",
    "    0 & 0 & 0 & 1\n",
    "\\end{pmatrix}\n",
    "= \n",
    "\\begin{pmatrix}\n",
    "    \\sqrt{3} & \\frac{\\sqrt{3}}{3} & \\frac{\\sqrt{3}}{3} & 0 \\\\\n",
    "    0 & -\\frac{\\sqrt{2}}{2} & \\frac{\\sqrt{6}}{6} & 0 \\\\\n",
    "    \\frac{\\sqrt{6}}{3} & -\\frac{\\sqrt{6}}{6} & -\\frac{\\sqrt{6}}{6} & 0 \\\\\n",
    "    0 & 0 & 0 & 1\n",
    "\\end{pmatrix}\n",
    "$$"
   ]
  },
  {
   "cell_type": "code",
   "execution_count": 10,
   "metadata": {},
   "outputs": [],
   "source": [
    "# Matriz de alineación\n",
    "A_v = np.array([\n",
    "    [lambda_ / v_magnitude, -a*b / (lambda_ * v_magnitude), -a*c / (lambda_ * v_magnitude), 0],\n",
    "    [0, c / lambda_, -b / lambda_, 0],\n",
    "    [a / v_magnitude, b / v_magnitude, c / v_magnitude, 0],\n",
    "    [0, 0, 0, 1]\n",
    "])"
   ]
  },
  {
   "cell_type": "markdown",
   "metadata": {},
   "source": [
    "Realizamos la operación $V' = A_v \\cdot V$.\n",
    "\n",
    "$$\n",
    "V' = \\begin{pmatrix}\n",
    "    \\sqrt{3} & \\frac{\\sqrt{3}}{3} & \\frac{\\sqrt{3}}{3} & 0 \\\\\n",
    "    0 & -\\frac{\\sqrt{2}}{2} & \\frac{\\sqrt{6}}{6} & 0 \\\\\n",
    "    \\frac{\\sqrt{6}}{3} & -\\frac{\\sqrt{6}}{6} & -\\frac{\\sqrt{6}}{6} & 0 \\\\\n",
    "    0 & 0 & 0 & 1\n",
    "\\end{pmatrix} \\begin{pmatrix}\n",
    "    1 \\\\\n",
    "    1 \\\\\n",
    "    1 \\\\\n",
    "    1\n",
    "\\end{pmatrix} = \\begin{pmatrix}\n",
    "    \\frac{2}{\\sqrt{3}}+\\sqrt{3}\\\\\n",
    "    \\frac{1}{\\sqrt{6}}-\\frac{1}{\\sqrt{2}}\\\\\n",
    "    0 \\\\\n",
    "    1\n",
    "\\end{pmatrix} \\approx \\begin{pmatrix}\n",
    "    2.88675 \\\\\n",
    "    -0.298858 \\\\\n",
    "    0 \\\\\n",
    "    1\n",
    "\\end{pmatrix}\n",
    "$$\n",
    "\n",
    "La transformación que alinea al vector **V** con el vector **N** es **V' = (2.88675, -0.298858, 0, 1)**."
   ]
  },
  {
   "cell_type": "markdown",
   "metadata": {},
   "source": [
    "# Problema 6.11 \n",
    "\n",
    "### Muéstrese que la transformación de alineamiento stisface la relación $A_v^{-1} = A_v^T$."
   ]
  },
  {
   "cell_type": "markdown",
   "metadata": {},
   "source": [
    "$$\n",
    "A_v = \n",
    "\\begin{pmatrix}\n",
    "    \\frac{\\lambda}{|\\vec{V}|} & -\\frac{ab}{\\lambda|\\vec{V}|} & -\\frac{ac}{\\lambda|\\vec{V}|} & 0 \\\\\n",
    "    0 & \\frac{c}{\\lambda} & -\\frac{b}{\\lambda} & 0 \\\\\n",
    "    \\frac{a}{|\\vec{V}|} & \\frac{b}{|\\vec{V}|} & \\frac{c}{|\\vec{V}|} & 0 \\\\\n",
    "    0 & 0 & 0 & 1\n",
    "\\end{pmatrix}\n",
    "$$\n",
    "\n",
    "$$\n",
    "A_v^{-1} = \n",
    "\\begin{pmatrix}\n",
    "    \\frac{\\lambda}{|\\vec{V}|} & 0 & \\frac{a}{|\\vec{V}|} & 0 \\\\\n",
    "    -\\frac{ab}{\\lambda|\\vec{V}|} & \\frac{c}{\\lambda} & \\frac{b}{|\\vec{V}|} & 0 \\\\\n",
    "    -\\frac{ac}{\\lambda|\\vec{V}|} & -\\frac{b}{\\lambda} & \\frac{c}{|\\vec{V}|} & 0 \\\\\n",
    "    0 & 0 & 0 & 1\n",
    "\\end{pmatrix}\n",
    "$$\n",
    "\n",
    "$$\n",
    "A_v^T = A_v^{-1} = \n",
    "\\begin{pmatrix}\n",
    "    \\frac{\\lambda}{|\\vec{V}|} & 0 & \\frac{a}{|\\vec{V}|} & 0 \\\\\n",
    "    -\\frac{ab}{\\lambda|\\vec{V}|} & \\frac{c}{\\lambda} & \\frac{b}{|\\vec{V}|} & 0 \\\\\n",
    "    -\\frac{ac}{\\lambda|\\vec{V}|} & -\\frac{b}{\\lambda} & \\frac{c}{|\\vec{V}|} & 0 \\\\\n",
    "    0 & 0 & 0 & 1\n",
    "\\end{pmatrix}\n",
    "$$\n",
    "\n",
    "Por lo tanto, la transformación de alineamiento satisface la relación $A_v^{-1} = A_v^T$."
   ]
  },
  {
   "cell_type": "markdown",
   "metadata": {},
   "source": [
    "# Problema 6.12\n",
    "### Muéstrese que la matriz de alineamiento $A_{V,N}$ es equivalente a una rotación de $\\theta°$ con respecto a un eje que tiene la dirección del vector $V \\times N$, y pasa por el origen. Aquí, $\\theta$ es el ángulo entre los vectores $V$ y $N$."
   ]
  },
  {
   "cell_type": "markdown",
   "metadata": {},
   "source": [
    "El posicionamiento de los vectores $\\mathbf{V}$ y $\\mathbf{N}$ en el origen nos permite observar que el producto cruz $\\mathbf{V} \\times \\mathbf{N}$ resulta ser perpendicular a ambos $\\mathbf{V}$ y $\\mathbf{N}$. Al considerar $\\theta$ como el ángulo comprendido entre $\\mathbf{V}$ y $\\mathbf{N}$, se deduce que una rotación de $\\theta^\\circ$ en torno al eje formado por $\\mathbf{A} \\times \\mathbf{N}$, que intercepta el origen, produce la alineación de $\\mathbf{V}$ con $\\mathbf{N}$. Esto sustenta la afirmación de que $\\mathbf{A}_{V,N} = \\mathbf{R}_{\\theta, \\mathbf{j}}$.\n",
    "\n",
    "Para el producto cruz se tiene que:\n",
    "\n",
    "$$\n",
    "\\mathbf{V} \\times \\mathbf{N} = \\det\n",
    "\\begin{pmatrix}\n",
    "\\mathbf{I} & \\mathbf{J} & \\mathbf{K} \\\\\n",
    "a & b & c \\\\\n",
    "n_1 & n_2 & n_3\n",
    "\\end{pmatrix}\n",
    "= (b n_3 - c n_2) \\mathbf{I} + (c n_1 - a n_3) \\mathbf{J} + (a n_2 - b n_1) \\mathbf{K}\n",
    "$$\n",
    "\n",
    "El producto escalar se expresa como:\n",
    "\n",
    "$$\n",
    "(\\mathbf{a} \\quad \\mathbf{b} \\quad \\mathbf{c}) \\cdot (n_1 \\quad n_2 \\quad n_3) = a n_1 + b n_2 + c n_3\n",
    "$$\n",
    "\n",
    "La relación entre el producto escalar de $\\mathbf{V}$ y $\\mathbf{N}$, y el ángulo $\\theta$ entre ellos, se define por:\n",
    "\n",
    "$$\n",
    "\\mathbf{V} \\cdot \\mathbf{N} = |\\mathbf{V}| \\cdot |\\mathbf{N}| \\cos \\theta\n",
    "$$\n",
    "\n",
    "Por lo tanto, el ángulo $\\theta$ se determina mediante:\n",
    "\n",
    "$$\n",
    "\\theta = \\arccos \\left( \\frac{\\mathbf{V} \\cdot \\mathbf{N}}{|\\mathbf{V}| \\cdot |\\mathbf{N}|} \\right) = \\arccos \\left( \\frac{a n_1 + b n_2 + c n_3}{\\sqrt{a^2 + b^2 + c^2} \\cdot \\sqrt{n_1^2 + n_2^2 + n_3^2}} \\right)\n",
    "$$\n",
    "\n",
    "Estableciendo así la igualdad $\\mathbf{A}_{V,N} = \\mathbf{R}_{\\theta, \\mathbf{j}}$.\n"
   ]
  },
  {
   "cell_type": "markdown",
   "metadata": {},
   "source": [
    "# Problema 6.13 \n",
    "\n",
    "### ¿Cómo puede definirse la puesta en escala con respecto a un punto $P_0(x_0, y_0, z_0)$  en términos de puesta en escala con respecto al origen?"
   ]
  },
  {
   "cell_type": "markdown",
   "metadata": {},
   "source": [
    "Inicialmente, se requiere posicionar el punto de interés en el origen. Posteriormente, se ejecuta la operación de escalamiento respecto al origen y finalmente se reposiciona el punto a su ubicación original.\n",
    "\n",
    "$$\n",
    "S_{s_x,s_y,s_z,P_0} = (T_{-P_0})^{-1} \\cdot S \\cdot T_{-P_0}\n",
    "$$\n",
    "\n",
    "Donde la transformación compuesta para el escalamiento con respecto a un punto $P_0(x_0, y_0, z_0)$, reubicándolo al origen, escalando y retornándolo a su posición original, se expresa como:\n",
    "\n",
    "$$\n",
    "(T_{-P_0})^{-1} \\cdot S \\cdot T_{-P_0} = \\begin{pmatrix}\n",
    "1 & 0 & 0 & x_0 \\\\\n",
    "0 & 1 & 0 & y_0 \\\\\n",
    "0 & 0 & 1 & z_0 \\\\\n",
    "0 & 0 & 0 & 1\n",
    "\\end{pmatrix}^{-1}\n",
    "\\begin{pmatrix}\n",
    "s_x & 0 & 0 & 0 \\\\\n",
    "0 & s_y & 0 & 0 \\\\\n",
    "0 & 0 & s_z & 0 \\\\\n",
    "0 & 0 & 0 & 1\n",
    "\\end{pmatrix}\n",
    "\\begin{pmatrix}\n",
    "1 & 0 & 0 & -x_0 \\\\\n",
    "0 & 1 & 0 & -y_0 \\\\\n",
    "0 & 0 & 1 & -z_0 \\\\\n",
    "0 & 0 & 0 & 1\n",
    "\\end{pmatrix}\n",
    "$$\n",
    "\n",
    "Así, la operación de escalamiento en torno a un punto específico $P_0$ respecto al origen puede ser definida mediante la secuencia de transformaciones matriciales previamente indicada."
   ]
  },
  {
   "cell_type": "markdown",
   "metadata": {},
   "source": [
    "# Conclusión \n"
   ]
  },
  {
   "cell_type": "markdown",
   "metadata": {},
   "source": [
    "Esta actividad nos ha servido para comprender las diversas transformaciones tridiemnsionales revisadas en clase y aplicarlas en ejercicios prácticos. A través de la resolución de los problemas planteados, lo que nos sirve para aplicarlo a problemas más complejos en el futuro."
   ]
  },
  {
   "cell_type": "markdown",
   "metadata": {},
   "source": [
    "## Bibliografía\n",
    "\n",
    " - Xiang, Z., & Plastock, R. A. (2000). Schaum’s Outline of Computer Graphics 2/E. McGraw Hill Professional."
   ]
  }
 ],
 "metadata": {
  "kernelspec": {
   "display_name": "simulacion_env",
   "language": "python",
   "name": "python3"
  },
  "language_info": {
   "codemirror_mode": {
    "name": "ipython",
    "version": 3
   },
   "file_extension": ".py",
   "mimetype": "text/x-python",
   "name": "python",
   "nbconvert_exporter": "python",
   "pygments_lexer": "ipython3",
   "version": "3.11.7"
  }
 },
 "nbformat": 4,
 "nbformat_minor": 2
}
